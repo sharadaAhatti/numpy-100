{
  "cells": [
    {
      "cell_type": "markdown",
      "id": "5a28b949",
      "metadata": {
        "id": "5a28b949"
      },
      "source": [
        "# 100 numpy exercises\n",
        "\n",
        "This is a collection of exercises that have been collected in the numpy mailing list, on stack overflow\n",
        "and in the numpy documentation. The goal of this collection is to offer a quick reference for both old\n",
        "and new users but also to provide a set of exercises for those who teach.\n",
        "\n",
        "\n",
        "If you find an error or think you've a better way to solve some of them, feel\n",
        "free to open an issue at <https://github.com/rougier/numpy-100>."
      ]
    },
    {
      "cell_type": "markdown",
      "id": "3f7a87ec",
      "metadata": {
        "id": "3f7a87ec"
      },
      "source": [
        "File automatically generated. See the documentation to update questions/answers/hints programmatically."
      ]
    },
    {
      "cell_type": "markdown",
      "id": "854ecf1b",
      "metadata": {
        "id": "854ecf1b"
      },
      "source": [
        "Run the `initialise.py` module, then for each question you can query the\n",
        "answer or an hint with `hint(n)` or `answer(n)` for `n` question number."
      ]
    },
    {
      "cell_type": "markdown",
      "id": "c00df986",
      "metadata": {
        "id": "c00df986"
      },
      "source": [
        "#### 1. Import the numpy package under the name `np` (★☆☆)"
      ]
    },
    {
      "cell_type": "code",
      "execution_count": 3,
      "id": "35bde95c",
      "metadata": {
        "id": "35bde95c"
      },
      "outputs": [],
      "source": [
        "import numpy as np"
      ]
    },
    {
      "cell_type": "markdown",
      "id": "b555a89f",
      "metadata": {
        "id": "b555a89f"
      },
      "source": [
        "#### 2. Print the numpy version and the configuration (★☆☆)"
      ]
    },
    {
      "cell_type": "code",
      "execution_count": 4,
      "id": "2c9d363d",
      "metadata": {
        "colab": {
          "base_uri": "https://localhost:8080/",
          "height": 36
        },
        "id": "2c9d363d",
        "outputId": "bcfa73b3-911f-4d57-efe0-3301efde1b1d"
      },
      "outputs": [
        {
          "output_type": "execute_result",
          "data": {
            "text/plain": [
              "'2.0.2'"
            ],
            "application/vnd.google.colaboratory.intrinsic+json": {
              "type": "string"
            }
          },
          "metadata": {},
          "execution_count": 4
        }
      ],
      "source": [
        "np.__version__"
      ]
    },
    {
      "cell_type": "markdown",
      "id": "e2713407",
      "metadata": {
        "id": "e2713407"
      },
      "source": [
        "#### 3. Create a null vector of size 10 (★☆☆)"
      ]
    },
    {
      "cell_type": "code",
      "execution_count": 5,
      "id": "6df2f6db",
      "metadata": {
        "colab": {
          "base_uri": "https://localhost:8080/"
        },
        "id": "6df2f6db",
        "outputId": "752a385e-0703-4a76-f535-675bcceb15e6"
      },
      "outputs": [
        {
          "output_type": "stream",
          "name": "stdout",
          "text": [
            "[0. 0. 0. 0. 0. 0. 0. 0. 0. 0.]\n"
          ]
        }
      ],
      "source": [
        "arr = np.zeros(10)\n",
        "print(arr)"
      ]
    },
    {
      "cell_type": "markdown",
      "id": "5a09554f",
      "metadata": {
        "id": "5a09554f"
      },
      "source": [
        "#### 4. How to find the memory size of any array (★☆☆)"
      ]
    },
    {
      "cell_type": "code",
      "execution_count": 6,
      "id": "c55a2a00",
      "metadata": {
        "colab": {
          "base_uri": "https://localhost:8080/"
        },
        "id": "c55a2a00",
        "outputId": "7cd76ad0-57f3-4196-c308-e24a21749e76"
      },
      "outputs": [
        {
          "output_type": "stream",
          "name": "stdout",
          "text": [
            "[0. 0. 0. 0. 0. 0. 0. 0. 0. 0.]\n",
            "80\n"
          ]
        }
      ],
      "source": [
        "arr = np.zeros(10)\n",
        "print(arr)\n",
        "print(arr.nbytes)"
      ]
    },
    {
      "cell_type": "markdown",
      "id": "4720d438",
      "metadata": {
        "id": "4720d438"
      },
      "source": [
        "#### 5. How to get the documentation of the numpy add function from the command line? (★☆☆)"
      ]
    },
    {
      "cell_type": "code",
      "execution_count": 7,
      "id": "d9e2277e",
      "metadata": {
        "colab": {
          "base_uri": "https://localhost:8080/"
        },
        "id": "d9e2277e",
        "outputId": "2d920a98-6d3e-470b-cf75-8c98dfb0ffcd"
      },
      "outputs": [
        {
          "output_type": "stream",
          "name": "stdout",
          "text": [
            "[5 7 9]\n"
          ]
        }
      ],
      "source": [
        "a = np.array([1, 2, 3])\n",
        "b = np.array([4, 5, 6])\n",
        "print(np.add(a, b))"
      ]
    },
    {
      "cell_type": "markdown",
      "id": "b812d322",
      "metadata": {
        "id": "b812d322"
      },
      "source": [
        "#### 6. Create a null vector of size 10 but the fifth value which is 1 (★☆☆)"
      ]
    },
    {
      "cell_type": "code",
      "execution_count": 8,
      "id": "9f95cedf",
      "metadata": {
        "colab": {
          "base_uri": "https://localhost:8080/"
        },
        "id": "9f95cedf",
        "outputId": "8374b9c0-b66f-4c8d-deec-0c9d37b0cf28"
      },
      "outputs": [
        {
          "output_type": "stream",
          "name": "stdout",
          "text": [
            "[0. 0. 0. 0. 1. 0. 0. 0. 0. 0.]\n"
          ]
        }
      ],
      "source": [
        "arr = np.zeros(10)\n",
        "arr[4] = 1\n",
        "print(arr)"
      ]
    },
    {
      "cell_type": "markdown",
      "id": "a348f2a8",
      "metadata": {
        "id": "a348f2a8"
      },
      "source": [
        "#### 7. Create a vector with values ranging from 10 to 49 (★☆☆)"
      ]
    },
    {
      "cell_type": "code",
      "execution_count": 9,
      "id": "5a68fd5b",
      "metadata": {
        "colab": {
          "base_uri": "https://localhost:8080/"
        },
        "id": "5a68fd5b",
        "outputId": "2fd41ce9-2f24-4ec9-bd1b-a776d4772782"
      },
      "outputs": [
        {
          "output_type": "stream",
          "name": "stdout",
          "text": [
            "[10 11 12 13 14 15 16 17 18 19 20 21 22 23 24 25 26 27 28 29 30 31 32 33\n",
            " 34 35 36 37 38 39 40 41 42 43 44 45 46 47 48 49]\n"
          ]
        }
      ],
      "source": [
        "arr = np.arange(10, 50)\n",
        "print(arr)"
      ]
    },
    {
      "cell_type": "markdown",
      "id": "2f4ca4c0",
      "metadata": {
        "id": "2f4ca4c0"
      },
      "source": [
        "#### 8. Reverse a vector (first element becomes last) (★☆☆)"
      ]
    },
    {
      "cell_type": "code",
      "execution_count": 10,
      "id": "1892e775",
      "metadata": {
        "colab": {
          "base_uri": "https://localhost:8080/"
        },
        "id": "1892e775",
        "outputId": "7d9fc35e-049f-479e-dae2-63a151993fed"
      },
      "outputs": [
        {
          "output_type": "stream",
          "name": "stdout",
          "text": [
            "[49 48 47 46 45 44 43 42 41 40 39 38 37 36 35 34 33 32 31 30 29 28 27 26\n",
            " 25 24 23 22 21 20 19 18 17 16 15 14 13 12 11 10]\n"
          ]
        }
      ],
      "source": [
        "arr = np.arange(10, 50)\n",
        "reverse_arr = arr[::-1]\n",
        "print(reverse_arr)"
      ]
    },
    {
      "cell_type": "markdown",
      "id": "31381832",
      "metadata": {
        "id": "31381832"
      },
      "source": [
        "#### 9. Create a 3x3 matrix with values ranging from 0 to 8 (★☆☆)"
      ]
    },
    {
      "cell_type": "code",
      "execution_count": 11,
      "id": "0154f251",
      "metadata": {
        "colab": {
          "base_uri": "https://localhost:8080/"
        },
        "id": "0154f251",
        "outputId": "d24cd91c-f00f-4c8c-f197-8fb5a44eb7f7"
      },
      "outputs": [
        {
          "output_type": "stream",
          "name": "stdout",
          "text": [
            "[[0 1 2]\n",
            " [3 4 5]\n",
            " [6 7 8]]\n"
          ]
        }
      ],
      "source": [
        "arr = np.arange(9).reshape(3, 3)\n",
        "print(arr)"
      ]
    },
    {
      "cell_type": "markdown",
      "id": "8c353e84",
      "metadata": {
        "id": "8c353e84"
      },
      "source": [
        "#### 10. Find indices of non-zero elements from [1,2,0,0,4,0] (★☆☆)"
      ]
    },
    {
      "cell_type": "code",
      "execution_count": 12,
      "id": "da3495c3",
      "metadata": {
        "colab": {
          "base_uri": "https://localhost:8080/"
        },
        "id": "da3495c3",
        "outputId": "2d37d71e-348d-4ef3-8b1e-765fd6594ae2"
      },
      "outputs": [
        {
          "output_type": "stream",
          "name": "stdout",
          "text": [
            "(array([0, 1, 4]),)\n"
          ]
        }
      ],
      "source": [
        "arr = np.array([1, 2, 0, 0, 4, 0])\n",
        "indices = np.nonzero(arr)\n",
        "print(indices)"
      ]
    },
    {
      "cell_type": "markdown",
      "id": "a26ac749",
      "metadata": {
        "id": "a26ac749"
      },
      "source": [
        "#### 11. Create a 3x3 identity matrix (★☆☆)"
      ]
    },
    {
      "cell_type": "code",
      "execution_count": 13,
      "id": "3e33feda",
      "metadata": {
        "colab": {
          "base_uri": "https://localhost:8080/"
        },
        "id": "3e33feda",
        "outputId": "bb91b494-5222-4e8a-ab16-7781603763aa"
      },
      "outputs": [
        {
          "output_type": "stream",
          "name": "stdout",
          "text": [
            "[[1. 0. 0.]\n",
            " [0. 1. 0.]\n",
            " [0. 0. 1.]]\n"
          ]
        }
      ],
      "source": [
        "arr = np.eye(3)\n",
        "print(arr)"
      ]
    },
    {
      "cell_type": "markdown",
      "id": "3a293379",
      "metadata": {
        "id": "3a293379"
      },
      "source": [
        "#### 12. Create a 3x3x3 array with random values (★☆☆)"
      ]
    },
    {
      "cell_type": "code",
      "execution_count": 14,
      "id": "2da08152",
      "metadata": {
        "colab": {
          "base_uri": "https://localhost:8080/"
        },
        "id": "2da08152",
        "outputId": "3e3c383a-6161-43f1-8320-fc7eff84028b"
      },
      "outputs": [
        {
          "output_type": "stream",
          "name": "stdout",
          "text": [
            "[[[0.94731873 0.11772532 0.90689006]\n",
            "  [0.85752381 0.188866   0.40473293]\n",
            "  [0.32055926 0.26352241 0.51871936]]\n",
            "\n",
            " [[0.63652117 0.36322203 0.64040038]\n",
            "  [0.36593546 0.84950762 0.40423566]\n",
            "  [0.53048642 0.02624819 0.42828337]]\n",
            "\n",
            " [[0.88175668 0.40007454 0.02021336]\n",
            "  [0.61639935 0.73583307 0.1670806 ]\n",
            "  [0.93720588 0.60044588 0.64781992]]]\n"
          ]
        }
      ],
      "source": [
        "arr = np.random.rand(3, 3, 3)\n",
        "print(arr)"
      ]
    },
    {
      "cell_type": "markdown",
      "id": "e3faa924",
      "metadata": {
        "id": "e3faa924"
      },
      "source": [
        "#### 13. Create a 10x10 array with random values and find the minimum and maximum values (★☆☆)"
      ]
    },
    {
      "cell_type": "code",
      "execution_count": 15,
      "id": "e9fb3793",
      "metadata": {
        "colab": {
          "base_uri": "https://localhost:8080/"
        },
        "id": "e9fb3793",
        "outputId": "06a82ae2-abfc-46a6-d6fc-67ebb9251f73"
      },
      "outputs": [
        {
          "output_type": "stream",
          "name": "stdout",
          "text": [
            "0.0018031881014523021 0.9965754758517136\n"
          ]
        }
      ],
      "source": [
        "arr = np.random.rand(10, 10)\n",
        "min_val = np.min(arr)\n",
        "max_val = np.max(arr)\n",
        "print(min_val, max_val)"
      ]
    },
    {
      "cell_type": "markdown",
      "id": "317cb8d1",
      "metadata": {
        "id": "317cb8d1"
      },
      "source": [
        "#### 14. Create a random vector of size 30 and find the mean value (★☆☆)"
      ]
    },
    {
      "cell_type": "code",
      "execution_count": 16,
      "id": "4ea995d6",
      "metadata": {
        "colab": {
          "base_uri": "https://localhost:8080/"
        },
        "id": "4ea995d6",
        "outputId": "132d8db4-0945-478e-f8f0-8fb7b1c5aa07"
      },
      "outputs": [
        {
          "output_type": "stream",
          "name": "stdout",
          "text": [
            "0.47700345854949744\n"
          ]
        }
      ],
      "source": [
        "arr = np.random.rand(30)\n",
        "mean_val = np.mean(arr)\n",
        "print(mean_val)"
      ]
    },
    {
      "cell_type": "markdown",
      "id": "b8dee0f2",
      "metadata": {
        "id": "b8dee0f2"
      },
      "source": [
        "#### 15. Create a 2d array with 1 on the border and 0 inside (★☆☆)"
      ]
    },
    {
      "cell_type": "code",
      "execution_count": 17,
      "id": "7054464b",
      "metadata": {
        "colab": {
          "base_uri": "https://localhost:8080/"
        },
        "id": "7054464b",
        "outputId": "840e169b-5b40-4b1c-84c0-fd69775e2f5d"
      },
      "outputs": [
        {
          "output_type": "stream",
          "name": "stdout",
          "text": [
            "[[1 1 1 1 1]\n",
            " [1 0 0 0 1]\n",
            " [1 0 0 0 1]\n",
            " [1 0 0 0 1]\n",
            " [1 1 1 1 1]]\n"
          ]
        }
      ],
      "source": [
        "arr = np.ones((5, 5), dtype=int)\n",
        "arr[1:-1, 1:-1] = 0\n",
        "print(arr)"
      ]
    },
    {
      "cell_type": "markdown",
      "id": "1476f45f",
      "metadata": {
        "id": "1476f45f"
      },
      "source": [
        "#### 16. How to add a border (filled with 0's) around an existing array? (★☆☆)"
      ]
    },
    {
      "cell_type": "code",
      "execution_count": 18,
      "id": "4f0212af",
      "metadata": {
        "colab": {
          "base_uri": "https://localhost:8080/"
        },
        "id": "4f0212af",
        "outputId": "75b36207-6316-422f-b81e-f2cee4ed65ea"
      },
      "outputs": [
        {
          "output_type": "stream",
          "name": "stdout",
          "text": [
            "[[0 0 0 0 0 0 0]\n",
            " [0 1 1 1 1 1 0]\n",
            " [0 1 1 1 1 1 0]\n",
            " [0 1 1 1 1 1 0]\n",
            " [0 1 1 1 1 1 0]\n",
            " [0 1 1 1 1 1 0]\n",
            " [0 0 0 0 0 0 0]]\n",
            "[[0 0 0 0 0]\n",
            " [0 1 1 1 0]\n",
            " [0 1 1 1 0]\n",
            " [0 1 1 1 0]\n",
            " [0 0 0 0 0]]\n"
          ]
        }
      ],
      "source": [
        "arr = np.ones((5, 5), dtype=int)\n",
        "arr = np.pad(arr, pad_width=1, mode='constant', constant_values=0)\n",
        "print(arr)\n",
        "\n",
        "arr = np.zeros((5, 5), dtype=int)\n",
        "arr[1:-1, 1:-1] = 1\n",
        "print(arr)"
      ]
    },
    {
      "cell_type": "markdown",
      "id": "52844dc7",
      "metadata": {
        "id": "52844dc7"
      },
      "source": [
        "#### 17. What is the result of the following expression? (★☆☆)\n",
        "```python\n",
        "0 * np.nan\n",
        "np.nan == np.nan\n",
        "np.inf > np.nan\n",
        "np.nan - np.nan\n",
        "np.nan in set([np.nan])\n",
        "0.3 == 3 * 0.1\n",
        "```"
      ]
    },
    {
      "cell_type": "code",
      "execution_count": 19,
      "id": "cfdb7352",
      "metadata": {
        "colab": {
          "base_uri": "https://localhost:8080/"
        },
        "id": "cfdb7352",
        "outputId": "74496a7f-9bdb-4ace-b230-c859112d3b71"
      },
      "outputs": [
        {
          "output_type": "stream",
          "name": "stdout",
          "text": [
            "nan\n",
            "False\n",
            "False\n",
            "nan\n",
            "True\n"
          ]
        }
      ],
      "source": [
        "''' python\n",
        "0 * np.nan\n",
        "np.nan == np.nan\n",
        "np.inf > np.nan\n",
        "np.nan - np.nan\n",
        "np.nan in set([np.nan])\n",
        "0.3 == 3 * 0.1\n",
        "'''\n",
        "import numpy as np\n",
        "print(0 * np.nan)\n",
        "print(np.nan == np.nan)\n",
        "print(np.inf > np.nan)\n",
        "print(np.nan - np.nan)\n",
        "print(np.nan in set([np.nan]))"
      ]
    },
    {
      "cell_type": "markdown",
      "id": "9801c961",
      "metadata": {
        "id": "9801c961"
      },
      "source": [
        "#### 18. Create a 5x5 matrix with values 1,2,3,4 just below the diagonal (★☆☆)"
      ]
    },
    {
      "cell_type": "code",
      "execution_count": 20,
      "id": "4e97651a",
      "metadata": {
        "colab": {
          "base_uri": "https://localhost:8080/"
        },
        "id": "4e97651a",
        "outputId": "2989398a-d19d-443c-88f2-08103ffa2ba9"
      },
      "outputs": [
        {
          "output_type": "stream",
          "name": "stdout",
          "text": [
            "[[0 0 0 0 0]\n",
            " [1 0 0 0 0]\n",
            " [0 2 0 0 0]\n",
            " [0 0 3 0 0]\n",
            " [0 0 0 4 0]]\n"
          ]
        }
      ],
      "source": [
        "arr = np.diag([1, 2, 3, 4], k=-1)\n",
        "print(arr)"
      ]
    },
    {
      "cell_type": "markdown",
      "id": "3dc05e9f",
      "metadata": {
        "id": "3dc05e9f"
      },
      "source": [
        "#### 19. Create a 8x8 matrix and fill it with a checkerboard pattern (★☆☆)"
      ]
    },
    {
      "cell_type": "code",
      "execution_count": 21,
      "id": "0b100b85",
      "metadata": {
        "colab": {
          "base_uri": "https://localhost:8080/"
        },
        "id": "0b100b85",
        "outputId": "bcba0613-2364-48ab-ac9b-4478790e1249"
      },
      "outputs": [
        {
          "output_type": "stream",
          "name": "stdout",
          "text": [
            "[[0 1 0 1 0 1 0 1]\n",
            " [1 0 1 0 1 0 1 0]\n",
            " [0 1 0 1 0 1 0 1]\n",
            " [1 0 1 0 1 0 1 0]\n",
            " [0 1 0 1 0 1 0 1]\n",
            " [1 0 1 0 1 0 1 0]\n",
            " [0 1 0 1 0 1 0 1]\n",
            " [1 0 1 0 1 0 1 0]]\n"
          ]
        }
      ],
      "source": [
        "arr = np.zeros((8, 8), dtype=int)\n",
        "arr[1::2, ::2] = 1\n",
        "arr[::2, 1::2] = 1\n",
        "print(arr)"
      ]
    },
    {
      "cell_type": "markdown",
      "id": "d8e941b6",
      "metadata": {
        "id": "d8e941b6"
      },
      "source": [
        "#### 20. Consider a (6,7,8) shape array, what is the index (x,y,z) of the 100th element? (★☆☆)"
      ]
    },
    {
      "cell_type": "code",
      "execution_count": 22,
      "id": "b3bc1fcb",
      "metadata": {
        "colab": {
          "base_uri": "https://localhost:8080/"
        },
        "id": "b3bc1fcb",
        "outputId": "112477fe-1931-42b0-e0c4-b29415f67963"
      },
      "outputs": [
        {
          "output_type": "stream",
          "name": "stdout",
          "text": [
            "(np.int64(1), np.int64(5), np.int64(3))\n"
          ]
        }
      ],
      "source": [
        "import numpy as np\n",
        "arr = np.unravel_index(99, (6, 7, 8))\n",
        "print(arr)"
      ]
    },
    {
      "cell_type": "markdown",
      "id": "bf3b8ab3",
      "metadata": {
        "id": "bf3b8ab3"
      },
      "source": [
        "#### 21. Create a checkerboard 8x8 matrix using the tile function (★☆☆)"
      ]
    },
    {
      "cell_type": "code",
      "execution_count": 23,
      "id": "eb15c681",
      "metadata": {
        "colab": {
          "base_uri": "https://localhost:8080/"
        },
        "id": "eb15c681",
        "outputId": "eb49bce6-b9fe-4898-f912-867772acafe2"
      },
      "outputs": [
        {
          "output_type": "stream",
          "name": "stdout",
          "text": [
            "[[0 1 0 1 0 1 0 1]\n",
            " [1 0 1 0 1 0 1 0]\n",
            " [0 1 0 1 0 1 0 1]\n",
            " [1 0 1 0 1 0 1 0]\n",
            " [0 1 0 1 0 1 0 1]\n",
            " [1 0 1 0 1 0 1 0]\n",
            " [0 1 0 1 0 1 0 1]\n",
            " [1 0 1 0 1 0 1 0]]\n"
          ]
        }
      ],
      "source": [
        "arr = np.array([[0, 1], [1, 0]])\n",
        "arr = np.tile(arr, (4, 4))\n",
        "print(arr)"
      ]
    },
    {
      "cell_type": "markdown",
      "id": "71af9d19",
      "metadata": {
        "id": "71af9d19"
      },
      "source": [
        "#### 22. Normalize a 5x5 random matrix (★☆☆)"
      ]
    },
    {
      "cell_type": "code",
      "execution_count": 24,
      "id": "df20b788",
      "metadata": {
        "colab": {
          "base_uri": "https://localhost:8080/"
        },
        "id": "df20b788",
        "outputId": "11224c2f-74fb-41a8-afd6-527dab51df9e"
      },
      "outputs": [
        {
          "output_type": "stream",
          "name": "stdout",
          "text": [
            "[[-0.4543374  -0.18406939  1.24504851  1.22131384  1.22121278]\n",
            " [ 0.20415105  1.44373829  0.69827895  1.48190216  1.24744176]\n",
            " [-0.65426221 -1.28758642 -1.17561739  0.75606097  0.61099198]\n",
            " [-1.49145122 -0.41824086 -1.59202677  0.81712357 -0.54890789]\n",
            " [-1.13416455 -0.46016837 -1.11098846  0.3813425  -0.81678544]]\n"
          ]
        }
      ],
      "source": [
        "arr = np.random.rand(5, 5)\n",
        "arr = (arr - np.mean(arr)) / np.std(arr)\n",
        "print(arr)"
      ]
    },
    {
      "cell_type": "markdown",
      "id": "01cd9893",
      "metadata": {
        "id": "01cd9893"
      },
      "source": [
        "#### 23. Create a custom dtype that describes a color as four unsigned bytes (RGBA) (★☆☆)"
      ]
    },
    {
      "cell_type": "code",
      "execution_count": 25,
      "id": "4acddc2f",
      "metadata": {
        "colab": {
          "base_uri": "https://localhost:8080/"
        },
        "id": "4acddc2f",
        "outputId": "0193a136-ebe8-494d-a5ab-3d2999803734"
      },
      "outputs": [
        {
          "output_type": "stream",
          "name": "stdout",
          "text": [
            "[('r', 'u1'), ('g', 'u1'), ('b', 'u1'), ('a', 'u1')]\n"
          ]
        }
      ],
      "source": [
        "arr = np.dtype([('r', np.uint8), ('g', np.uint8), ('b', np.uint8), ('a', np.uint8)])\n",
        "print(arr)"
      ]
    },
    {
      "cell_type": "markdown",
      "id": "0ef5f38b",
      "metadata": {
        "id": "0ef5f38b"
      },
      "source": [
        "#### 24. Multiply a 5x3 matrix by a 3x2 matrix (real matrix product) (★☆☆)"
      ]
    },
    {
      "cell_type": "code",
      "execution_count": 26,
      "id": "3d36d4a0",
      "metadata": {
        "colab": {
          "base_uri": "https://localhost:8080/"
        },
        "id": "3d36d4a0",
        "outputId": "1b35f951-1687-458f-8099-cfa89e8d7d6f"
      },
      "outputs": [
        {
          "output_type": "stream",
          "name": "stdout",
          "text": [
            "[[1.15221353 1.06411184]\n",
            " [0.70625573 0.87685629]\n",
            " [1.11972644 1.20860421]\n",
            " [0.75992295 0.92735223]\n",
            " [0.55492992 0.51889879]]\n"
          ]
        }
      ],
      "source": [
        "arr = np.dot(np.random.rand(5, 3), np.random.rand(3, 2))\n",
        "print(arr)"
      ]
    },
    {
      "cell_type": "markdown",
      "id": "a46db425",
      "metadata": {
        "id": "a46db425"
      },
      "source": [
        "#### 25. Given a 1D array, negate all elements which are between 3 and 8, in place. (★☆☆)"
      ]
    },
    {
      "cell_type": "code",
      "execution_count": 27,
      "id": "86e3d6a8",
      "metadata": {
        "colab": {
          "base_uri": "https://localhost:8080/"
        },
        "id": "86e3d6a8",
        "outputId": "e0f9f0f6-446a-4861-9e2b-0333f3797722"
      },
      "outputs": [
        {
          "output_type": "stream",
          "name": "stdout",
          "text": [
            "[ 0  1  2  3 -4 -5 -6 -7  8  9]\n"
          ]
        }
      ],
      "source": [
        "arr = np.arange(10)\n",
        "arr[(arr > 3) & (arr < 8)] *= -1\n",
        "print(arr)"
      ]
    },
    {
      "cell_type": "markdown",
      "id": "89fa6007",
      "metadata": {
        "id": "89fa6007"
      },
      "source": [
        "#### 26. What is the output of the following script? (★☆☆)\n",
        "```python\n",
        "# Author: Jake VanderPlas\n",
        "\n",
        "print(sum(range(5),-1))\n",
        "from numpy import *\n",
        "print(sum(range(5),-1))\n",
        "```"
      ]
    },
    {
      "cell_type": "code",
      "execution_count": 28,
      "id": "59f2c6dc",
      "metadata": {
        "colab": {
          "base_uri": "https://localhost:8080/"
        },
        "id": "59f2c6dc",
        "outputId": "8e117886-eddd-4b04-ab0e-11e2121fca87"
      },
      "outputs": [
        {
          "output_type": "stream",
          "name": "stdout",
          "text": [
            "9\n",
            "10\n"
          ]
        }
      ],
      "source": [
        "print(sum(range(5),-1))\n",
        "from numpy import *\n",
        "print(sum(range(5),-1))"
      ]
    },
    {
      "cell_type": "markdown",
      "id": "38de4589",
      "metadata": {
        "id": "38de4589"
      },
      "source": [
        "#### 27. Consider an integer vector Z, which of these expressions are legal? (★☆☆)\n",
        "```python\n",
        "Z**Z\n",
        "2 << Z >> 2\n",
        "Z <- Z\n",
        "1j*Z\n",
        "Z/1/1\n",
        "Z<Z>Z\n",
        "```"
      ]
    },
    {
      "cell_type": "code",
      "execution_count": 29,
      "id": "a9dc9520",
      "metadata": {
        "colab": {
          "base_uri": "https://localhost:8080/"
        },
        "id": "a9dc9520",
        "outputId": "263adb86-a49d-43c6-ad40-b07d9255dd9b"
      },
      "outputs": [
        {
          "output_type": "stream",
          "name": "stdout",
          "text": [
            "[ 1  4 27]\n",
            "[1 2 4]\n",
            "[0.+1.j 0.+2.j 0.+3.j]\n",
            "[1. 2. 3.]\n"
          ]
        }
      ],
      "source": [
        "z = np.array([1, 2, 3])\n",
        "print(z**z)\n",
        "print(2 << z >> 2)\n",
        "#print(z <- z) // illegal command or invalid syntax\n",
        "print(1j*z)\n",
        "print(z/1/1)\n",
        "#print(Z<Z>Z) // illegal command or invalid syntax"
      ]
    },
    {
      "cell_type": "markdown",
      "id": "77c8b8c7",
      "metadata": {
        "id": "77c8b8c7"
      },
      "source": [
        "#### 28. What are the result of the following expressions? (★☆☆)\n",
        "```python\n",
        "np.array(0) / np.array(0)\n",
        "np.array(0) // np.array(0)\n",
        "np.array([np.nan]).astype(int).astype(float)\n",
        "```"
      ]
    },
    {
      "cell_type": "code",
      "execution_count": 30,
      "id": "3b66fe44",
      "metadata": {
        "id": "3b66fe44",
        "colab": {
          "base_uri": "https://localhost:8080/"
        },
        "outputId": "757b8802-5577-42e5-8a40-9da5e660d770"
      },
      "outputs": [
        {
          "output_type": "stream",
          "name": "stdout",
          "text": [
            "nan\n",
            "0\n",
            "[-9.22337204e+18]\n"
          ]
        },
        {
          "output_type": "stream",
          "name": "stderr",
          "text": [
            "/tmp/ipython-input-2889552415.py:7: RuntimeWarning: invalid value encountered in divide\n",
            "  print(np.array(0) / np.array(0))\n",
            "/tmp/ipython-input-2889552415.py:8: RuntimeWarning: divide by zero encountered in floor_divide\n",
            "  print(np.array(0) // np.array(0))\n",
            "/tmp/ipython-input-2889552415.py:9: RuntimeWarning: invalid value encountered in cast\n",
            "  print(np.array([np.nan]).astype(int).astype(float))\n"
          ]
        }
      ],
      "source": [
        "'''np.array(0) / np.array(0)\n",
        "np.array(0) // np.array(0)\n",
        "np.array([np.nan]).astype(int).astype(float)'''\n",
        "\n",
        "import numpy as np\n",
        "\n",
        "print(np.array(0) / np.array(0))\n",
        "print(np.array(0) // np.array(0))\n",
        "print(np.array([np.nan]).astype(int).astype(float))"
      ]
    },
    {
      "cell_type": "markdown",
      "id": "1f3f0892",
      "metadata": {
        "id": "1f3f0892"
      },
      "source": [
        "#### 29. How to round away from zero a float array ? (★☆☆)"
      ]
    },
    {
      "cell_type": "code",
      "execution_count": 31,
      "id": "8fce1bd7",
      "metadata": {
        "id": "8fce1bd7",
        "colab": {
          "base_uri": "https://localhost:8080/"
        },
        "outputId": "104d90d9-fc6f-4b44-c7de-2bc2cbb6b7d2"
      },
      "outputs": [
        {
          "output_type": "stream",
          "name": "stdout",
          "text": [
            "[ -7.  -5.   5.   6. -10.  -5.  -2.  -4.   4.  -8.]\n"
          ]
        }
      ],
      "source": [
        "import numpy as np\n",
        "arr = np.random.uniform(-10, +10, 10)\n",
        "print(np.copysign(np.ceil(np.abs(arr)), arr)) #ceiling is used to round up the floting values and abs means gives absoult value removing negative sign"
      ]
    },
    {
      "cell_type": "markdown",
      "id": "53f47438",
      "metadata": {
        "id": "53f47438"
      },
      "source": [
        "#### 30. How to find common values between two arrays? (★☆☆)"
      ]
    },
    {
      "cell_type": "code",
      "execution_count": 32,
      "id": "981db6ec",
      "metadata": {
        "id": "981db6ec",
        "colab": {
          "base_uri": "https://localhost:8080/"
        },
        "outputId": "7e3ac77c-0a06-4bb1-e4a2-00d20523d7d6"
      },
      "outputs": [
        {
          "output_type": "stream",
          "name": "stdout",
          "text": [
            "[3 4 5]\n"
          ]
        }
      ],
      "source": [
        "arr1 = np.array([1, 2, 3, 4, 5])\n",
        "arr2 = np.array([3, 4, 5, 6, 7])\n",
        "print(np.intersect1d(arr1, arr2))"
      ]
    },
    {
      "cell_type": "markdown",
      "id": "51cf9109",
      "metadata": {
        "id": "51cf9109"
      },
      "source": [
        "#### 31. How to ignore all numpy warnings (not recommended)? (★☆☆)\n",
        "\n",
        "*   List item\n",
        "*   List item\n",
        "\n"
      ]
    },
    {
      "cell_type": "code",
      "execution_count": 33,
      "id": "09ba7521",
      "metadata": {
        "id": "09ba7521"
      },
      "outputs": [],
      "source": [
        "#arr = np.ones(1) / 0\n",
        "#print(arr)\n",
        "\n",
        "import warnings\n",
        "warnings.filterwarnings('ignore')\n"
      ]
    },
    {
      "cell_type": "markdown",
      "id": "948a691b",
      "metadata": {
        "id": "948a691b"
      },
      "source": [
        "#### 32. Is the following expressions true? (★☆☆)\n",
        "```python\n",
        "np.sqrt(-1) == np.emath.sqrt(-1)\n",
        "```"
      ]
    },
    {
      "cell_type": "code",
      "execution_count": 34,
      "id": "6d8f745b",
      "metadata": {
        "id": "6d8f745b",
        "colab": {
          "base_uri": "https://localhost:8080/"
        },
        "outputId": "28dab400-4bb6-46b4-a0de-8ffcf0d7f51c"
      },
      "outputs": [
        {
          "output_type": "execute_result",
          "data": {
            "text/plain": [
              "np.False_"
            ]
          },
          "metadata": {},
          "execution_count": 34
        }
      ],
      "source": [
        "np.sqrt(-1) == np.emath.sqrt(-1)\n"
      ]
    },
    {
      "cell_type": "markdown",
      "id": "d1a8992e",
      "metadata": {
        "id": "d1a8992e"
      },
      "source": [
        "#### 33. How to get the dates of yesterday, today and tomorrow? (★☆☆)"
      ]
    },
    {
      "cell_type": "code",
      "execution_count": 35,
      "id": "31a1ade2",
      "metadata": {
        "id": "31a1ade2",
        "colab": {
          "base_uri": "https://localhost:8080/"
        },
        "outputId": "fcbc97c5-1a7b-4534-d8bf-b35efe0c07cd"
      },
      "outputs": [
        {
          "output_type": "stream",
          "name": "stdout",
          "text": [
            "2025-10-30\n"
          ]
        }
      ],
      "source": [
        "arr = np.datetime64('today', 'D') - np.timedelta64(0, 'D')\n",
        "print(arr)"
      ]
    },
    {
      "cell_type": "markdown",
      "id": "01378794",
      "metadata": {
        "id": "01378794"
      },
      "source": [
        "#### 34. How to get all the dates corresponding to the month of July 2016? (★★☆)"
      ]
    },
    {
      "cell_type": "code",
      "execution_count": 36,
      "id": "928c55c6",
      "metadata": {
        "id": "928c55c6",
        "colab": {
          "base_uri": "https://localhost:8080/"
        },
        "outputId": "e3facd65-2c51-496e-c6f5-2a53ab811937"
      },
      "outputs": [
        {
          "output_type": "stream",
          "name": "stdout",
          "text": [
            "['2016-07-01' '2016-07-02' '2016-07-03' '2016-07-04' '2016-07-05'\n",
            " '2016-07-06' '2016-07-07' '2016-07-08' '2016-07-09' '2016-07-10'\n",
            " '2016-07-11' '2016-07-12' '2016-07-13' '2016-07-14' '2016-07-15'\n",
            " '2016-07-16' '2016-07-17' '2016-07-18' '2016-07-19' '2016-07-20'\n",
            " '2016-07-21' '2016-07-22' '2016-07-23' '2016-07-24' '2016-07-25'\n",
            " '2016-07-26' '2016-07-27' '2016-07-28' '2016-07-29' '2016-07-30'\n",
            " '2016-07-31']\n"
          ]
        }
      ],
      "source": [
        "arr = np.arange('2016-07', '2016-08', dtype='datetime64[D]')\n",
        "print(arr)"
      ]
    },
    {
      "cell_type": "markdown",
      "id": "e3f8fe94",
      "metadata": {
        "id": "e3f8fe94"
      },
      "source": [
        "#### 35. How to compute ((A+B)*(-A/2)) in place (without copy)? (★★☆)"
      ]
    },
    {
      "cell_type": "code",
      "execution_count": 37,
      "id": "14e478d5",
      "metadata": {
        "id": "14e478d5",
        "colab": {
          "base_uri": "https://localhost:8080/"
        },
        "outputId": "d7b896ca-cb14-4623-b93e-605a70896ea5"
      },
      "outputs": [
        {
          "output_type": "stream",
          "name": "stdout",
          "text": [
            "[3. 3. 3.]\n",
            "[0.5 0.5 0.5]\n"
          ]
        },
        {
          "output_type": "execute_result",
          "data": {
            "text/plain": [
              "array([-0.5, -0.5, -0.5])"
            ]
          },
          "metadata": {},
          "execution_count": 37
        }
      ],
      "source": [
        "arr = np.ones(3) * 1\n",
        "b = np.ones(3) * 2\n",
        "np.add(arr, b, out=b)\n",
        "print(b)\n",
        "np.divide(arr, 2, out=arr)\n",
        "print(arr)\n",
        "np.negative(arr, out=arr)"
      ]
    },
    {
      "cell_type": "markdown",
      "id": "5c4d58c9",
      "metadata": {
        "id": "5c4d58c9"
      },
      "source": [
        "#### 36. Extract the integer part of a random array of positive numbers using 4 different methods (★★☆)"
      ]
    },
    {
      "cell_type": "code",
      "execution_count": 38,
      "id": "586beded",
      "metadata": {
        "id": "586beded",
        "colab": {
          "base_uri": "https://localhost:8080/"
        },
        "outputId": "93aed859-71a0-40ad-f25d-aba5973b8494"
      },
      "outputs": [
        {
          "output_type": "stream",
          "name": "stdout",
          "text": [
            "random array [0.42712035 5.06002356 2.87923588 6.61261214 7.50244347 8.12918136\n",
            " 2.9133254  2.72675655 4.89232663 6.30067559]\n",
            "[0. 5. 2. 6. 7. 8. 2. 2. 4. 6.]\n",
            "[0. 5. 2. 6. 7. 8. 2. 2. 4. 6.]\n",
            "[0. 5. 2. 6. 7. 8. 2. 2. 4. 6.]\n",
            "[0 5 2 6 7 8 2 2 4 6]\n"
          ]
        }
      ],
      "source": [
        "arr = np.random.uniform(0, 10, 10)\n",
        "print('random array', arr)\n",
        "print(arr - arr % 1) #gives factorial of elements and substract with original elements\n",
        "print(np.floor(arr))\n",
        "print(np.ceil(arr) - 1)\n",
        "print(arr.astype(int))"
      ]
    },
    {
      "cell_type": "markdown",
      "id": "62628653",
      "metadata": {
        "id": "62628653"
      },
      "source": [
        "#### 37. Create a 5x5 matrix with row values ranging from 0 to 4 (★★☆)"
      ]
    },
    {
      "cell_type": "code",
      "execution_count": 39,
      "id": "e57763b3",
      "metadata": {
        "id": "e57763b3",
        "colab": {
          "base_uri": "https://localhost:8080/"
        },
        "outputId": "8d8c84bc-f86a-4d68-9a8b-ce5332f291c5"
      },
      "outputs": [
        {
          "output_type": "stream",
          "name": "stdout",
          "text": [
            "[[0. 1. 2. 3. 4.]\n",
            " [0. 1. 2. 3. 4.]\n",
            " [0. 1. 2. 3. 4.]\n",
            " [0. 1. 2. 3. 4.]\n",
            " [0. 1. 2. 3. 4.]]\n"
          ]
        }
      ],
      "source": [
        "arr = np.zeros((5, 5))\n",
        "arr += np.arange(5)\n",
        "print(arr)"
      ]
    },
    {
      "cell_type": "markdown",
      "id": "d3d46d64",
      "metadata": {
        "id": "d3d46d64"
      },
      "source": [
        "#### 38. Consider a generator function that generates 10 integers and use it to build an array (★☆☆)"
      ]
    },
    {
      "cell_type": "code",
      "execution_count": 43,
      "id": "24590d8c",
      "metadata": {
        "id": "24590d8c",
        "colab": {
          "base_uri": "https://localhost:8080/"
        },
        "outputId": "97ef10dd-0094-406c-e8a6-8d7e1f7c3371"
      },
      "outputs": [
        {
          "output_type": "stream",
          "name": "stdout",
          "text": [
            "[0. 1. 2. 3. 4. 5. 6. 7. 8. 9.]\n"
          ]
        }
      ],
      "source": [
        "def generate():\n",
        "  for x in range(10):\n",
        "    yield x\n",
        "arr = np.fromiter(generate(), dtype=float, count=-1)\n",
        "print(arr)"
      ]
    },
    {
      "cell_type": "markdown",
      "id": "5e1e51e4",
      "metadata": {
        "id": "5e1e51e4"
      },
      "source": [
        "`[link text](https://)#### 39. Create a vector of size 10 with values ranging from 0 to 1, both excluded (★★☆)`"
      ]
    },
    {
      "cell_type": "code",
      "execution_count": 44,
      "id": "def73884",
      "metadata": {
        "id": "def73884",
        "colab": {
          "base_uri": "https://localhost:8080/"
        },
        "outputId": "9cb03ce6-074c-4e67-def9-983db0a49d98"
      },
      "outputs": [
        {
          "output_type": "stream",
          "name": "stdout",
          "text": [
            "[0.09090909 0.18181818 0.27272727 0.36363636 0.45454545 0.54545455\n",
            " 0.63636364 0.72727273 0.81818182 0.90909091]\n"
          ]
        }
      ],
      "source": [
        "arr = np.linspace(0, 1, 11, endpoint=False)[1:]\n",
        "print(arr)"
      ]
    },
    {
      "cell_type": "markdown",
      "id": "9e19964c",
      "metadata": {
        "id": "9e19964c"
      },
      "source": [
        "#### 40. Create a random vector of size 10 and sort it (★★☆)"
      ]
    },
    {
      "cell_type": "code",
      "execution_count": 45,
      "id": "ec302eb1",
      "metadata": {
        "id": "ec302eb1",
        "colab": {
          "base_uri": "https://localhost:8080/"
        },
        "outputId": "04d89f03-1d9d-4512-8b08-17173449db5c"
      },
      "outputs": [
        {
          "output_type": "stream",
          "name": "stdout",
          "text": [
            "[0.01375685 0.0172409  0.04404777 0.2522437  0.33171742 0.52961442\n",
            " 0.77578101 0.84041258 0.88077127 0.91443653]\n"
          ]
        }
      ],
      "source": [
        "arr = np.random.random(10)\n",
        "arr.sort()\n",
        "print(arr)"
      ]
    },
    {
      "cell_type": "markdown",
      "id": "13a034e2",
      "metadata": {
        "id": "13a034e2"
      },
      "source": [
        "#### 41. How to sum a small array faster than np.sum? (★★☆)"
      ]
    },
    {
      "cell_type": "code",
      "execution_count": 47,
      "id": "b09a3551",
      "metadata": {
        "id": "b09a3551",
        "colab": {
          "base_uri": "https://localhost:8080/"
        },
        "outputId": "c4ee15eb-82e5-4378-910e-578bf3b050bb"
      },
      "outputs": [
        {
          "output_type": "execute_result",
          "data": {
            "text/plain": [
              "np.int64(45)"
            ]
          },
          "metadata": {},
          "execution_count": 47
        }
      ],
      "source": [
        "arr = np.arange(10)\n",
        "np.add.reduce(arr)"
      ]
    },
    {
      "cell_type": "markdown",
      "id": "32d10473",
      "metadata": {
        "id": "32d10473"
      },
      "source": [
        "#### 42. Consider two random arrays A and B, check if they are equal (★★☆)"
      ]
    },
    {
      "cell_type": "code",
      "execution_count": 48,
      "id": "5ebb1103",
      "metadata": {
        "id": "5ebb1103",
        "colab": {
          "base_uri": "https://localhost:8080/"
        },
        "outputId": "e0f565c5-6edb-4b3e-a1bc-8c7e38bd07e0"
      },
      "outputs": [
        {
          "output_type": "stream",
          "name": "stdout",
          "text": [
            "False\n"
          ]
        }
      ],
      "source": [
        "arr1 = np.random.randint(0, 2, 5)\n",
        "arr2 = np.random.randint(0, 2, 5)\n",
        "print(np.allclose(arr1, arr2))"
      ]
    },
    {
      "cell_type": "markdown",
      "id": "a50474b0",
      "metadata": {
        "id": "a50474b0"
      },
      "source": [
        "#### 43. Make an array immutable (read-only) (★★☆)\n",
        "\n",
        "> Add blockquote\n",
        "\n",
        "> Add blockquote\n",
        "\n",
        "\n",
        "\n"
      ]
    },
    {
      "cell_type": "code",
      "execution_count": 54,
      "id": "db6fe176",
      "metadata": {
        "id": "db6fe176",
        "colab": {
          "base_uri": "https://localhost:8080/"
        },
        "outputId": "dd705d00-a4f0-4d6b-8b53-ea4c7636c937"
      },
      "outputs": [
        {
          "output_type": "stream",
          "name": "stdout",
          "text": [
            "Array: [10 20 30 40 50]\n"
          ]
        }
      ],
      "source": [
        "\n",
        "# Create a normal array\n",
        "arr = np.array([10, 20, 30, 40, 50])\n",
        "# Make it read-only\n",
        "arr.flags.writeable = False\n",
        "print(\"Array:\", arr)\n",
        "# Try to modify it\n",
        "#arr[0] = 99   # ❌ This will raise an error\n"
      ]
    },
    {
      "cell_type": "markdown",
      "id": "b7a6093e",
      "metadata": {
        "id": "b7a6093e"
      },
      "source": [
        "#### 44. Consider a random 10x2 matrix representing cartesian coordinates, convert them to polar coordinates (★★☆)"
      ]
    },
    {
      "cell_type": "code",
      "execution_count": 55,
      "id": "4479c48d",
      "metadata": {
        "id": "4479c48d",
        "colab": {
          "base_uri": "https://localhost:8080/"
        },
        "outputId": "dfc03447-0c54-45b0-a1c3-8d1bdf5b98d6"
      },
      "outputs": [
        {
          "output_type": "stream",
          "name": "stdout",
          "text": [
            "[0.49675245 0.52023818 0.96576764 0.55355138 0.81000846 0.71199154\n",
            " 0.87760575 0.3616613  0.94053986 0.72031922]\n"
          ]
        }
      ],
      "source": [
        "arr = np.random.random((10, 2))\n",
        "x, y = arr[:, 0], arr[:, 1]\n",
        "r = np.sqrt(x**2 + y**2)\n",
        "t = np.arctan2(y, x)\n",
        "print(r)"
      ]
    },
    {
      "cell_type": "markdown",
      "id": "934f889c",
      "metadata": {
        "id": "934f889c"
      },
      "source": [
        "#### 45. Create random vector of size 10 and replace the maximum value by 0 (★★☆)"
      ]
    },
    {
      "cell_type": "code",
      "execution_count": 56,
      "id": "4b576814",
      "metadata": {
        "id": "4b576814",
        "colab": {
          "base_uri": "https://localhost:8080/"
        },
        "outputId": "51a8f7ae-6e71-46f6-f928-d0acc8aed197"
      },
      "outputs": [
        {
          "output_type": "stream",
          "name": "stdout",
          "text": [
            "[0.17966722 0.41774179 0.87209254 0.28710294 0.69597932 0.77235514\n",
            " 0.93961004 0.         0.11472561 0.54364626]\n"
          ]
        }
      ],
      "source": [
        "arr = np.random.random(10)\n",
        "arr[arr.argmax()] = 0\n",
        "print(arr)"
      ]
    },
    {
      "cell_type": "markdown",
      "id": "d4f6e2e1",
      "metadata": {
        "id": "d4f6e2e1"
      },
      "source": [
        "#### 46. Create a structured array with `x` and `y` coordinates covering the [0,1]x[0,1] area (★★☆)"
      ]
    },
    {
      "cell_type": "code",
      "execution_count": 58,
      "id": "f90f969b",
      "metadata": {
        "id": "f90f969b",
        "colab": {
          "base_uri": "https://localhost:8080/"
        },
        "outputId": "c1216ad0-5fed-42ec-ee3d-d6c6cf24ec75"
      },
      "outputs": [
        {
          "output_type": "stream",
          "name": "stdout",
          "text": [
            "[[(0.  , 0.  ) (0.25, 0.  ) (0.5 , 0.  ) (0.75, 0.  ) (1.  , 0.  )]\n",
            " [(0.  , 0.25) (0.25, 0.25) (0.5 , 0.25) (0.75, 0.25) (1.  , 0.25)]\n",
            " [(0.  , 0.5 ) (0.25, 0.5 ) (0.5 , 0.5 ) (0.75, 0.5 ) (1.  , 0.5 )]\n",
            " [(0.  , 0.75) (0.25, 0.75) (0.5 , 0.75) (0.75, 0.75) (1.  , 0.75)]\n",
            " [(0.  , 1.  ) (0.25, 1.  ) (0.5 , 1.  ) (0.75, 1.  ) (1.  , 1.  )]]\n"
          ]
        }
      ],
      "source": [
        "arr = np.zeros((5, 5), [('x', float), ('y', float)])\n",
        "arr['x'], arr['y'] = np.meshgrid(np.linspace(0, 1, 5), np.linspace(0, 1, 5))  #meshgrid means create the coordinates\n",
        "print(arr)\n"
      ]
    },
    {
      "cell_type": "markdown",
      "id": "bc9c88d3",
      "metadata": {
        "id": "bc9c88d3"
      },
      "source": [
        "#### 47. Given two arrays, X and Y, construct the Cauchy matrix C (Cij =1/(xi - yj)) (★★☆)"
      ]
    },
    {
      "cell_type": "code",
      "execution_count": 59,
      "id": "e90ad595",
      "metadata": {
        "id": "e90ad595",
        "colab": {
          "base_uri": "https://localhost:8080/"
        },
        "outputId": "88eb82ba-43eb-41b0-accb-761be0ef2ff1"
      },
      "outputs": [
        {
          "output_type": "stream",
          "name": "stdout",
          "text": [
            "3638.163637117973\n"
          ]
        }
      ],
      "source": [
        "arr1 = np.arange(8)\n",
        "arr2 = arr1 + 0.5\n",
        "c = 1.0 / np.subtract.outer(arr1, arr2)\n",
        "print(np.linalg.det(c))"
      ]
    },
    {
      "cell_type": "markdown",
      "id": "a840a52f",
      "metadata": {
        "id": "a840a52f"
      },
      "source": [
        "#### 48. Print the minimum and maximum representable values for each numpy scalar type (★★☆)"
      ]
    },
    {
      "cell_type": "code",
      "execution_count": 63,
      "id": "d2eb3b4a",
      "metadata": {
        "id": "d2eb3b4a",
        "colab": {
          "base_uri": "https://localhost:8080/"
        },
        "outputId": "9a8cfde4-a4bb-4a50-d0c6-37956f9c4186"
      },
      "outputs": [
        {
          "output_type": "stream",
          "name": "stdout",
          "text": [
            "-128\n",
            "127\n",
            "-32768\n",
            "32767\n",
            "-2147483648\n",
            "2147483647\n",
            "-9223372036854775808\n",
            "9223372036854775807\n",
            "-3.4028235e+38\n",
            "3.4028235e+38\n",
            "-1.7976931348623157e+308\n",
            "1.7976931348623157e+308\n"
          ]
        }
      ],
      "source": [
        "arr = np.array([np.int8, np.int16, np.int32, np.int64, np.float32, np.float64])\n",
        "arr = arr.tolist()\n",
        "for i in arr:\n",
        "  if np.issubdtype(i, np.integer):\n",
        "    print(np.iinfo(i).min)\n",
        "    print(np.iinfo(i).max)\n",
        "  elif np.issubdtype(i, np.floating):\n",
        "    print(np.finfo(i).min)\n",
        "    print(np.finfo(i).max)"
      ]
    },
    {
      "cell_type": "markdown",
      "id": "0a0819d5",
      "metadata": {
        "id": "0a0819d5"
      },
      "source": [
        "#### 49. How to print all the values of an array? (★★☆)"
      ]
    },
    {
      "cell_type": "code",
      "execution_count": 68,
      "id": "d76dbf55",
      "metadata": {
        "id": "d76dbf55",
        "colab": {
          "base_uri": "https://localhost:8080/"
        },
        "outputId": "b7d405b9-488d-48d8-e0f9-950e88bab745"
      },
      "outputs": [
        {
          "output_type": "stream",
          "name": "stdout",
          "text": [
            "Default printing:\n",
            "[ 0  1  2  3  4  5  6  7  8  9 10 11 12 13 14 15 16 17 18 19 20 21 22 23\n",
            " 24 25 26 27 28 29 30 31 32 33 34 35 36 37 38 39 40 41 42 43 44 45 46 47\n",
            " 48 49 50 51 52 53 54 55 56 57 58 59 60 61 62 63 64 65 66 67 68 69 70 71\n",
            " 72 73 74 75 76 77 78 79 80 81 82 83 84 85 86 87 88 89 90 91 92 93 94 95\n",
            " 96 97 98 99]\n",
            "\n",
            "Printing all elements:\n",
            "[ 0  1  2  3  4  5  6  7  8  9 10 11 12 13 14 15 16 17 18 19 20 21 22 23\n",
            " 24 25 26 27 28 29 30 31 32 33 34 35 36 37 38 39 40 41 42 43 44 45 46 47\n",
            " 48 49 50 51 52 53 54 55 56 57 58 59 60 61 62 63 64 65 66 67 68 69 70 71\n",
            " 72 73 74 75 76 77 78 79 80 81 82 83 84 85 86 87 88 89 90 91 92 93 94 95\n",
            " 96 97 98 99]\n"
          ]
        }
      ],
      "source": [
        "import numpy as np\n",
        "\n",
        "# Create a large array\n",
        "large_array = np.arange(100)\n",
        "\n",
        "# By default, large arrays are truncated\n",
        "print(\"Default printing:\")\n",
        "print(large_array)\n",
        "\n",
        "# To print all elements, change the print options\n",
        "np.set_printoptions(threshold=np.inf)\n",
        "\n",
        "print(\"\\nPrinting all elements:\")\n",
        "print(large_array)\n",
        "\n",
        "# You can reset the print options later if needed\n",
        "# np.set_printoptions(threshold=1000) # Or your desired default"
      ]
    },
    {
      "cell_type": "markdown",
      "id": "50c62214",
      "metadata": {
        "id": "50c62214"
      },
      "source": [
        "#### 50. How to find the closest value (to a given scalar) in a vector? (★★☆)"
      ]
    },
    {
      "cell_type": "code",
      "execution_count": 69,
      "id": "24b45bb5",
      "metadata": {
        "id": "24b45bb5",
        "colab": {
          "base_uri": "https://localhost:8080/"
        },
        "outputId": "0b908620-fca6-481f-c79b-caabd6d5bb4d"
      },
      "outputs": [
        {
          "output_type": "stream",
          "name": "stdout",
          "text": [
            "91\n"
          ]
        }
      ],
      "source": [
        "arr = np.arange(100)\n",
        "v = np.random.uniform(0, 100)\n",
        "index = (np.abs(arr - v)).argmin()\n",
        "print(arr[index])"
      ]
    },
    {
      "cell_type": "markdown",
      "id": "4c5a5116",
      "metadata": {
        "id": "4c5a5116"
      },
      "source": [
        "\\#### 51. Create a structured array representing a position (x,y) and a color (r,g,b) (★★☆)"
      ]
    },
    {
      "cell_type": "code",
      "execution_count": 75,
      "id": "275806b2",
      "metadata": {
        "id": "275806b2",
        "colab": {
          "base_uri": "https://localhost:8080/"
        },
        "outputId": "92f5bfe1-5bde-466b-c8ae-4ac831adc725"
      },
      "outputs": [
        {
          "output_type": "stream",
          "name": "stdout",
          "text": [
            "[((0. , 0. ), (1., 0., 0.)) ((1. , 1. ), (0., 1., 0.))\n",
            " ((0.5, 0.2), (0., 0., 1.))]\n"
          ]
        }
      ],
      "source": [
        "# Define the data type (structure)\n",
        "dt = np.dtype([\n",
        "    ('position', [('x', float), ('y', float)]),\n",
        "    ('color', [('r', float), ('g', float), ('b', float)])\n",
        "])\n",
        "\n",
        "# Create structured array\n",
        "arr = np.array([\n",
        "    ((0.0, 0.0), (1.0, 0.0, 0.0)),   # Red point\n",
        "    ((1.0, 1.0), (0.0, 1.0, 0.0)),   # Green point\n",
        "    ((0.5, 0.2), (0.0, 0.0, 1.0))], dtype=dt) #blue point\n",
        "\n",
        "print(arr)\n"
      ]
    },
    {
      "cell_type": "markdown",
      "id": "1d3399ca",
      "metadata": {
        "id": "1d3399ca"
      },
      "source": [
        "[link text](https:// [link text](https://:\\))#### 52. Consider a random vector\n",
        "\n",
        "1.   List item\n",
        "2.   List item\n",
        "\n",
        "with shape (100,2) representing coordinates, find point by point distances (★★☆)"
      ]
    },
    {
      "cell_type": "code",
      "execution_count": 80,
      "id": "67eae5bf",
      "metadata": {
        "id": "67eae5bf",
        "colab": {
          "base_uri": "https://localhost:8080/"
        },
        "outputId": "d4ac602a-f869-4328-fcf0-38f95da7434d"
      },
      "outputs": [
        {
          "output_type": "stream",
          "name": "stdout",
          "text": [
            "[[0.         0.19151088 0.71474871 0.54857385 0.21113029 0.62999408\n",
            "  0.53378252 0.61254213 0.40395836 0.21228217]\n",
            " [0.19151088 0.         0.78743977 0.61527783 0.34102855 0.44086484\n",
            "  0.58914263 0.45999752 0.22588994 0.38619895]\n",
            " [0.71474871 0.78743977 0.         0.17216557 0.50844532 1.0149299\n",
            "  0.20136589 0.80270946 0.81791528 0.5706708 ]\n",
            " [0.54857385 0.61527783 0.17216557 0.         0.34812217 0.86154748\n",
            "  0.04125591 0.66684247 0.6545198  0.42499913]\n",
            " [0.21113029 0.34102855 0.50844532 0.34812217 0.         0.72404746\n",
            "  0.34026372 0.62775955 0.48667437 0.11072855]\n",
            " [0.62999408 0.44086484 1.0149299  0.86154748 0.72404746 0.\n",
            "  0.82292688 0.25712478 0.23756002 0.80132379]\n",
            " [0.53378252 0.58914263 0.20136589 0.04125591 0.34026372 0.82292688\n",
            "  0.         0.62595085 0.61876    0.42524315]\n",
            " [0.61254213 0.45999752 0.80270946 0.66684247 0.62775955 0.25712478\n",
            "  0.62595085 0.         0.24811192 0.72704555]\n",
            " [0.40395836 0.22588994 0.81791528 0.6545198  0.48667437 0.23756002\n",
            "  0.61876    0.24811192 0.         0.5646292 ]\n",
            " [0.21228217 0.38619895 0.5706708  0.42499913 0.11072855 0.80132379\n",
            "  0.42524315 0.72704555 0.5646292  0.        ]]\n"
          ]
        }
      ],
      "source": [
        "arr = np.random.random((10, 2)) # example (100, 2)\n",
        "x, y = np.atleast_2d(arr[:, 0], arr[:, 1])\n",
        "d = np.sqrt((x - x.T)**2 + (y - y.T)**2)\n",
        "arr = d.astype(float)\n",
        "print(arr)"
      ]
    },
    {
      "cell_type": "markdown",
      "id": "003ff920",
      "metadata": {
        "id": "003ff920"
      },
      "source": [
        "#### 53. How to convert a float (32 bits) array into an integer (32 bits) array in place?"
      ]
    },
    {
      "cell_type": "code",
      "execution_count": 81,
      "id": "76245e6d",
      "metadata": {
        "id": "76245e6d",
        "colab": {
          "base_uri": "https://localhost:8080/"
        },
        "outputId": "c47c83d6-66f2-4062-98cd-829093afe3ba"
      },
      "outputs": [
        {
          "output_type": "stream",
          "name": "stdout",
          "text": [
            "[0 1 2 3 4 5 6 7 8 9]\n"
          ]
        }
      ],
      "source": [
        "arr = np.arange(10, dtype=np.float32)\n",
        "arr = arr.astype(np.int32, copy=False)\n",
        "print(arr)"
      ]
    },
    {
      "cell_type": "markdown",
      "id": "0c99eac4",
      "metadata": {
        "id": "0c99eac4"
      },
      "source": [
        "#### 54. How to read the following file? (★★☆)\n",
        "```\n",
        "1, 2, 3, 4, 5\n",
        "6,  ,  , 7, 8\n",
        " ,  , 9,10,11\n",
        "```"
      ]
    },
    {
      "cell_type": "code",
      "execution_count": 86,
      "id": "55c6bf8c",
      "metadata": {
        "id": "55c6bf8c",
        "colab": {
          "base_uri": "https://localhost:8080/"
        },
        "outputId": "3f46c0cd-ace3-43a4-cb7c-6625ecf41fda"
      },
      "outputs": [
        {
          "output_type": "stream",
          "name": "stdout",
          "text": [
            "[[ 1  2  3  4  5]\n",
            " [ 6 -1 -1  7  8]\n",
            " [-1 -1  9 10 11]]\n"
          ]
        }
      ],
      "source": [
        "arr = np.genfromtxt(\"file.txt\", delimiter=\",\", dtype=int, filling_values=-1)\n",
        "print(arr)"
      ]
    },
    {
      "cell_type": "code",
      "metadata": {
        "colab": {
          "base_uri": "https://localhost:8080/"
        },
        "id": "a4e1a7de",
        "outputId": "8efa8563-9fd7-4099-be5f-f8326f03faa6"
      },
      "source": [
        "%%writefile file.txt\n",
        "1, 2, 3, 4, 5\n",
        "6,  ,  , 7, 8\n",
        ",  , 9,10,11"
      ],
      "id": "a4e1a7de",
      "execution_count": 85,
      "outputs": [
        {
          "output_type": "stream",
          "name": "stdout",
          "text": [
            "Writing file.txt\n"
          ]
        }
      ]
    },
    {
      "cell_type": "markdown",
      "id": "8cd30360",
      "metadata": {
        "id": "8cd30360"
      },
      "source": [
        "#### 55. What is the equivalent of enumerate for numpy arrays? (★★☆)"
      ]
    },
    {
      "cell_type": "code",
      "execution_count": 87,
      "id": "608315ba",
      "metadata": {
        "id": "608315ba",
        "colab": {
          "base_uri": "https://localhost:8080/"
        },
        "outputId": "7bc1f337-1d48-4c75-8a72-8882f105662d"
      },
      "outputs": [
        {
          "output_type": "stream",
          "name": "stdout",
          "text": [
            "(0, 0) 0\n",
            "(0, 1) 1\n",
            "(0, 2) 2\n",
            "(1, 0) 3\n",
            "(1, 1) 4\n",
            "(1, 2) 5\n",
            "(2, 0) 6\n",
            "(2, 1) 7\n",
            "(2, 2) 8\n",
            "\n",
            "(0, 0) 0\n",
            "(0, 1) 1\n",
            "(0, 2) 2\n",
            "(1, 0) 3\n",
            "(1, 1) 4\n",
            "(1, 2) 5\n",
            "(2, 0) 6\n",
            "(2, 1) 7\n",
            "(2, 2) 8\n"
          ]
        }
      ],
      "source": [
        "arr = np.arange(9).reshape(3, 3)\n",
        "for index, value in np.ndenumerate(arr):\n",
        "  print(index, value)\n",
        "print()\n",
        "for index in np.ndindex(arr.shape):\n",
        "  print(index, arr[index])"
      ]
    },
    {
      "cell_type": "markdown",
      "id": "4823a294",
      "metadata": {
        "id": "4823a294"
      },
      "source": [
        "#### 56. Generate a generic 2D Gaussian-like array (★★☆)"
      ]
    },
    {
      "cell_type": "code",
      "execution_count": 40,
      "id": "9b3b682d",
      "metadata": {
        "id": "9b3b682d"
      },
      "outputs": [],
      "source": []
    },
    {
      "cell_type": "markdown",
      "id": "2dd8891d",
      "metadata": {
        "id": "2dd8891d"
      },
      "source": [
        "#### 57. How to randomly place p elements in a 2D array? (★★☆)"
      ]
    },
    {
      "cell_type": "code",
      "execution_count": 40,
      "id": "a55c52dc",
      "metadata": {
        "id": "a55c52dc"
      },
      "outputs": [],
      "source": []
    },
    {
      "cell_type": "markdown",
      "id": "270b6834",
      "metadata": {
        "id": "270b6834"
      },
      "source": [
        "#### 58. Subtract the mean of each row of a matrix (★★☆)"
      ]
    },
    {
      "cell_type": "code",
      "execution_count": 40,
      "id": "814080c9",
      "metadata": {
        "id": "814080c9"
      },
      "outputs": [],
      "source": []
    },
    {
      "cell_type": "markdown",
      "id": "52c92916",
      "metadata": {
        "id": "52c92916"
      },
      "source": [
        "#### 59. How to sort an array by the nth column? (★★☆)"
      ]
    },
    {
      "cell_type": "code",
      "execution_count": 40,
      "id": "c6ebac6d",
      "metadata": {
        "id": "c6ebac6d"
      },
      "outputs": [],
      "source": []
    },
    {
      "cell_type": "markdown",
      "id": "05cef60b",
      "metadata": {
        "id": "05cef60b"
      },
      "source": [
        "#### 60. How to tell if a given 2D array has null columns? (★★☆)"
      ]
    },
    {
      "cell_type": "code",
      "execution_count": 40,
      "id": "7979b467",
      "metadata": {
        "id": "7979b467"
      },
      "outputs": [],
      "source": []
    },
    {
      "cell_type": "markdown",
      "id": "4891fdf5",
      "metadata": {
        "id": "4891fdf5"
      },
      "source": [
        "#### 61. Find the nearest value from a given value in an array (★★☆)"
      ]
    },
    {
      "cell_type": "code",
      "execution_count": 40,
      "id": "b38950fd",
      "metadata": {
        "id": "b38950fd"
      },
      "outputs": [],
      "source": []
    },
    {
      "cell_type": "markdown",
      "id": "b34bfbc7",
      "metadata": {
        "id": "b34bfbc7"
      },
      "source": [
        "#### 62. Considering two arrays with shape (1,3) and (3,1), how to compute their sum using an iterator? (★★☆)"
      ]
    },
    {
      "cell_type": "code",
      "execution_count": 40,
      "id": "aa7eb006",
      "metadata": {
        "id": "aa7eb006"
      },
      "outputs": [],
      "source": []
    },
    {
      "cell_type": "markdown",
      "id": "77a27b83",
      "metadata": {
        "id": "77a27b83"
      },
      "source": [
        "#### 63. Create an array class that has a name attribute (★★☆)"
      ]
    },
    {
      "cell_type": "code",
      "execution_count": 40,
      "id": "a2a83936",
      "metadata": {
        "id": "a2a83936"
      },
      "outputs": [],
      "source": []
    },
    {
      "cell_type": "markdown",
      "id": "f7f5d229",
      "metadata": {
        "id": "f7f5d229"
      },
      "source": [
        "#### 64. Consider a given vector, how to add 1 to each element indexed by a second vector (be careful with repeated indices)? (★★★)"
      ]
    },
    {
      "cell_type": "code",
      "execution_count": 40,
      "id": "9b8f8f48",
      "metadata": {
        "id": "9b8f8f48"
      },
      "outputs": [],
      "source": []
    },
    {
      "cell_type": "markdown",
      "id": "b067fca8",
      "metadata": {
        "id": "b067fca8"
      },
      "source": [
        "#### 65. How to accumulate elements of a vector (X) to an array (F) based on an index list (I)? (★★★)"
      ]
    },
    {
      "cell_type": "code",
      "execution_count": 40,
      "id": "f983f8ba",
      "metadata": {
        "id": "f983f8ba"
      },
      "outputs": [],
      "source": []
    },
    {
      "cell_type": "markdown",
      "id": "765e2b8e",
      "metadata": {
        "id": "765e2b8e"
      },
      "source": [
        "#### 66. Considering a (w,h,3) image of (dtype=ubyte), compute the number of unique colors (★★☆)"
      ]
    },
    {
      "cell_type": "code",
      "execution_count": 40,
      "id": "7572d90d",
      "metadata": {
        "id": "7572d90d"
      },
      "outputs": [],
      "source": []
    },
    {
      "cell_type": "markdown",
      "id": "02743317",
      "metadata": {
        "id": "02743317"
      },
      "source": [
        "#### 67. Considering a four dimensions array, how to get sum over the last two axis at once? (★★★)"
      ]
    },
    {
      "cell_type": "code",
      "execution_count": 40,
      "id": "980b5c45",
      "metadata": {
        "id": "980b5c45"
      },
      "outputs": [],
      "source": []
    },
    {
      "cell_type": "markdown",
      "id": "fe8b8107",
      "metadata": {
        "id": "fe8b8107"
      },
      "source": [
        "#### 68. Considering a one-dimensional vector D, how to compute means of subsets of D using a vector S of same size describing subset  indices? (★★★)"
      ]
    },
    {
      "cell_type": "code",
      "execution_count": 40,
      "id": "9c17c8c9",
      "metadata": {
        "id": "9c17c8c9"
      },
      "outputs": [],
      "source": []
    },
    {
      "cell_type": "markdown",
      "id": "7efa1173",
      "metadata": {
        "id": "7efa1173"
      },
      "source": [
        "#### 69. How to get the diagonal of a dot product? (★★★)"
      ]
    },
    {
      "cell_type": "code",
      "execution_count": 40,
      "id": "59fc6a51",
      "metadata": {
        "id": "59fc6a51"
      },
      "outputs": [],
      "source": []
    },
    {
      "cell_type": "markdown",
      "id": "b72adc30",
      "metadata": {
        "id": "b72adc30"
      },
      "source": [
        "#### 70. Consider the vector [1, 2, 3, 4, 5], how to build a new vector with 3 consecutive zeros interleaved between each value? (★★★)"
      ]
    },
    {
      "cell_type": "code",
      "execution_count": 40,
      "id": "94b582b4",
      "metadata": {
        "id": "94b582b4"
      },
      "outputs": [],
      "source": []
    },
    {
      "cell_type": "markdown",
      "id": "fafa05b8",
      "metadata": {
        "id": "fafa05b8"
      },
      "source": [
        "#### 71. Consider an array of dimension (5,5,3), how to multiply it by an array with dimensions (5,5)? (★★★)"
      ]
    },
    {
      "cell_type": "code",
      "execution_count": 40,
      "id": "0dbb5bd4",
      "metadata": {
        "id": "0dbb5bd4"
      },
      "outputs": [],
      "source": []
    },
    {
      "cell_type": "markdown",
      "id": "35a2bae5",
      "metadata": {
        "id": "35a2bae5"
      },
      "source": [
        "#### 72. How to swap two rows of an array? (★★★)"
      ]
    },
    {
      "cell_type": "code",
      "execution_count": 40,
      "id": "d63b30c3",
      "metadata": {
        "id": "d63b30c3"
      },
      "outputs": [],
      "source": []
    },
    {
      "cell_type": "markdown",
      "id": "b760fc57",
      "metadata": {
        "id": "b760fc57"
      },
      "source": [
        "#### 73. Consider a set of 10 triplets describing 10 triangles (with shared vertices), find the set of unique line segments composing all the  triangles (★★★)"
      ]
    },
    {
      "cell_type": "code",
      "execution_count": 40,
      "id": "01738774",
      "metadata": {
        "id": "01738774"
      },
      "outputs": [],
      "source": []
    },
    {
      "cell_type": "markdown",
      "id": "2d28cdaa",
      "metadata": {
        "id": "2d28cdaa"
      },
      "source": [
        "#### 74. Given a sorted array C that corresponds to a bincount, how to produce an array A such that np.bincount(A) == C? (★★★)"
      ]
    },
    {
      "cell_type": "code",
      "execution_count": 40,
      "id": "8423859b",
      "metadata": {
        "id": "8423859b"
      },
      "outputs": [],
      "source": []
    },
    {
      "cell_type": "markdown",
      "id": "5f4cafbd",
      "metadata": {
        "id": "5f4cafbd"
      },
      "source": [
        "#### 75. How to compute averages using a sliding window over an array? (★★★)"
      ]
    },
    {
      "cell_type": "code",
      "execution_count": 40,
      "id": "62d6d514",
      "metadata": {
        "id": "62d6d514"
      },
      "outputs": [],
      "source": []
    },
    {
      "cell_type": "markdown",
      "id": "575d8bb4",
      "metadata": {
        "id": "575d8bb4"
      },
      "source": [
        "#### 76. Consider a one-dimensional array Z, build a two-dimensional array whose first row is (Z[0],Z[1],Z[2]) and each subsequent row is  shifted by 1 (last row should be (Z[-3],Z[-2],Z[-1]) (★★★)"
      ]
    },
    {
      "cell_type": "code",
      "execution_count": 40,
      "id": "2a41d341",
      "metadata": {
        "id": "2a41d341"
      },
      "outputs": [],
      "source": []
    },
    {
      "cell_type": "markdown",
      "id": "80dc0b2a",
      "metadata": {
        "id": "80dc0b2a"
      },
      "source": [
        "#### 77. How to negate a boolean, or to change the sign of a float inplace? (★★★)"
      ]
    },
    {
      "cell_type": "code",
      "execution_count": 40,
      "id": "6fc68014",
      "metadata": {
        "id": "6fc68014"
      },
      "outputs": [],
      "source": []
    },
    {
      "cell_type": "markdown",
      "id": "7288634d",
      "metadata": {
        "id": "7288634d"
      },
      "source": [
        "#### 78. Consider 2 sets of points P0,P1 describing lines (2d) and a point p, how to compute distance from p to each line i (P0[i],P1[i])? (★★★)"
      ]
    },
    {
      "cell_type": "code",
      "execution_count": 40,
      "id": "4602caa6",
      "metadata": {
        "id": "4602caa6"
      },
      "outputs": [],
      "source": []
    },
    {
      "cell_type": "markdown",
      "id": "e1880e79",
      "metadata": {
        "id": "e1880e79"
      },
      "source": [
        "#### 79. Consider 2 sets of points P0,P1 describing lines (2d) and a set of points P, how to compute distance from each point j (P[j]) to each line i (P0[i],P1[i])? (★★★)"
      ]
    },
    {
      "cell_type": "code",
      "execution_count": 40,
      "id": "a14e151b",
      "metadata": {
        "id": "a14e151b"
      },
      "outputs": [],
      "source": []
    },
    {
      "cell_type": "markdown",
      "id": "b8a2a287",
      "metadata": {
        "id": "b8a2a287"
      },
      "source": [
        "#### 80. Consider an arbitrary array, write a function that extracts a subpart with a fixed shape and centered on a given element (pad with a `fill` value when necessary) (★★★)"
      ]
    },
    {
      "cell_type": "code",
      "execution_count": 40,
      "id": "86af1186",
      "metadata": {
        "id": "86af1186"
      },
      "outputs": [],
      "source": []
    },
    {
      "cell_type": "markdown",
      "id": "caa64150",
      "metadata": {
        "id": "caa64150"
      },
      "source": [
        "#### 81. Consider an array Z = [1,2,3,4,5,6,7,8,9,10,11,12,13,14], how to generate an array R = [[1,2,3,4], [2,3,4,5], [3,4,5,6], ..., [11,12,13,14]]? (★★★)"
      ]
    },
    {
      "cell_type": "code",
      "execution_count": 40,
      "id": "4e7cc696",
      "metadata": {
        "id": "4e7cc696"
      },
      "outputs": [],
      "source": []
    },
    {
      "cell_type": "markdown",
      "id": "9444c83b",
      "metadata": {
        "id": "9444c83b"
      },
      "source": [
        "#### 82. Compute a matrix rank (★★★)"
      ]
    },
    {
      "cell_type": "code",
      "execution_count": 40,
      "id": "9e5c1d64",
      "metadata": {
        "id": "9e5c1d64"
      },
      "outputs": [],
      "source": []
    },
    {
      "cell_type": "markdown",
      "id": "6eef9f33",
      "metadata": {
        "id": "6eef9f33"
      },
      "source": [
        "#### 83. How to find the most frequent value in an array?"
      ]
    },
    {
      "cell_type": "code",
      "execution_count": 40,
      "id": "9fb60e52",
      "metadata": {
        "id": "9fb60e52"
      },
      "outputs": [],
      "source": []
    },
    {
      "cell_type": "markdown",
      "id": "65f370f9",
      "metadata": {
        "id": "65f370f9"
      },
      "source": [
        "#### 84. Extract all the contiguous 3x3 blocks from a random 10x10 matrix (★★★)"
      ]
    },
    {
      "cell_type": "code",
      "execution_count": 40,
      "id": "65ade1a6",
      "metadata": {
        "id": "65ade1a6"
      },
      "outputs": [],
      "source": []
    },
    {
      "cell_type": "markdown",
      "id": "845ad7f8",
      "metadata": {
        "id": "845ad7f8"
      },
      "source": [
        "#### 85. Create a 2D array subclass such that Z[i,j] == Z[j,i] (★★★)"
      ]
    },
    {
      "cell_type": "code",
      "execution_count": 40,
      "id": "30b1ba71",
      "metadata": {
        "id": "30b1ba71"
      },
      "outputs": [],
      "source": []
    },
    {
      "cell_type": "markdown",
      "id": "adc48f02",
      "metadata": {
        "id": "adc48f02"
      },
      "source": [
        "#### 86. Consider a set of p matrices with shape (n,n) and a set of p vectors with shape (n,1). How to compute the sum of of the p matrix products at once? (result has shape (n,1)) (★★★)"
      ]
    },
    {
      "cell_type": "code",
      "execution_count": 40,
      "id": "ec798e90",
      "metadata": {
        "id": "ec798e90"
      },
      "outputs": [],
      "source": []
    },
    {
      "cell_type": "markdown",
      "id": "9efb34b2",
      "metadata": {
        "id": "9efb34b2"
      },
      "source": [
        "#### 87. Consider a 16x16 array, how to get the block-sum (block size is 4x4)? (★★★)"
      ]
    },
    {
      "cell_type": "code",
      "execution_count": 40,
      "id": "ea79f40b",
      "metadata": {
        "id": "ea79f40b"
      },
      "outputs": [],
      "source": []
    },
    {
      "cell_type": "markdown",
      "id": "a9368578",
      "metadata": {
        "id": "a9368578"
      },
      "source": [
        "#### 88. How to implement the Game of Life using numpy arrays? (★★★)"
      ]
    },
    {
      "cell_type": "code",
      "execution_count": 40,
      "id": "315e9f11",
      "metadata": {
        "id": "315e9f11"
      },
      "outputs": [],
      "source": []
    },
    {
      "cell_type": "markdown",
      "id": "8c598af3",
      "metadata": {
        "id": "8c598af3"
      },
      "source": [
        "#### 89. How to get the n largest values of an array (★★★)"
      ]
    },
    {
      "cell_type": "code",
      "execution_count": 40,
      "id": "cba8d433",
      "metadata": {
        "id": "cba8d433"
      },
      "outputs": [],
      "source": []
    },
    {
      "cell_type": "markdown",
      "id": "036a3bb0",
      "metadata": {
        "id": "036a3bb0"
      },
      "source": [
        "#### 90. Given an arbitrary number of vectors, build the cartesian product (every combination of every item) (★★★)"
      ]
    },
    {
      "cell_type": "code",
      "execution_count": 40,
      "id": "d712972d",
      "metadata": {
        "id": "d712972d"
      },
      "outputs": [],
      "source": []
    },
    {
      "cell_type": "markdown",
      "id": "36487aab",
      "metadata": {
        "id": "36487aab"
      },
      "source": [
        "#### 91. How to create a record array from a regular array? (★★★)"
      ]
    },
    {
      "cell_type": "code",
      "execution_count": 40,
      "id": "9779dbac",
      "metadata": {
        "id": "9779dbac"
      },
      "outputs": [],
      "source": []
    },
    {
      "cell_type": "markdown",
      "id": "9f178562",
      "metadata": {
        "id": "9f178562"
      },
      "source": [
        "#### 92. Consider a large vector Z, compute Z to the power of 3 using 3 different methods (★★★)"
      ]
    },
    {
      "cell_type": "code",
      "execution_count": 40,
      "id": "b08000b8",
      "metadata": {
        "id": "b08000b8"
      },
      "outputs": [],
      "source": []
    },
    {
      "cell_type": "markdown",
      "id": "86acaf60",
      "metadata": {
        "id": "86acaf60"
      },
      "source": [
        "#### 93. Consider two arrays A and B of shape (8,3) and (2,2). How to find rows of A that contain elements of each row of B regardless of the order of the elements in B? (★★★)"
      ]
    },
    {
      "cell_type": "code",
      "execution_count": 40,
      "id": "793b26d4",
      "metadata": {
        "id": "793b26d4"
      },
      "outputs": [],
      "source": []
    },
    {
      "cell_type": "markdown",
      "id": "c71b9df2",
      "metadata": {
        "id": "c71b9df2"
      },
      "source": [
        "#### 94. Considering a 10x3 matrix, extract rows with unequal values (e.g. [2,2,3]) (★★★)"
      ]
    },
    {
      "cell_type": "code",
      "execution_count": 40,
      "id": "494069f0",
      "metadata": {
        "id": "494069f0"
      },
      "outputs": [],
      "source": []
    },
    {
      "cell_type": "markdown",
      "id": "1a8ae7c1",
      "metadata": {
        "id": "1a8ae7c1"
      },
      "source": [
        "#### 95. Convert a vector of ints into a matrix binary representation (★★★)"
      ]
    },
    {
      "cell_type": "code",
      "execution_count": 40,
      "id": "d5e967b8",
      "metadata": {
        "id": "d5e967b8"
      },
      "outputs": [],
      "source": []
    },
    {
      "cell_type": "markdown",
      "id": "edef1198",
      "metadata": {
        "id": "edef1198"
      },
      "source": [
        "#### 96. Given a two dimensional array, how to extract unique rows? (★★★)"
      ]
    },
    {
      "cell_type": "code",
      "execution_count": 40,
      "id": "fa14799b",
      "metadata": {
        "id": "fa14799b"
      },
      "outputs": [],
      "source": []
    },
    {
      "cell_type": "markdown",
      "id": "575598a1",
      "metadata": {
        "id": "575598a1"
      },
      "source": [
        "#### 97. Considering 2 vectors A & B, write the einsum equivalent of inner, outer, sum, and mul function (★★★)"
      ]
    },
    {
      "cell_type": "code",
      "execution_count": 40,
      "id": "9da72f6e",
      "metadata": {
        "id": "9da72f6e"
      },
      "outputs": [],
      "source": []
    },
    {
      "cell_type": "markdown",
      "id": "88e2796a",
      "metadata": {
        "id": "88e2796a"
      },
      "source": [
        "#### 98. Considering a path described by two vectors (X,Y), how to sample it using equidistant samples (★★★)?"
      ]
    },
    {
      "cell_type": "code",
      "execution_count": 40,
      "id": "c17314f8",
      "metadata": {
        "id": "c17314f8"
      },
      "outputs": [],
      "source": []
    },
    {
      "cell_type": "markdown",
      "id": "8b25b7bd",
      "metadata": {
        "id": "8b25b7bd"
      },
      "source": [
        "#### 99. Given an integer n and a 2D array X, select from X the rows which can be interpreted as draws from a multinomial distribution with n degrees, i.e., the rows which only contain integers and which sum to n. (★★★)"
      ]
    },
    {
      "cell_type": "code",
      "execution_count": 40,
      "id": "f0dc48cd",
      "metadata": {
        "id": "f0dc48cd"
      },
      "outputs": [],
      "source": []
    },
    {
      "cell_type": "markdown",
      "id": "b7068c76",
      "metadata": {
        "id": "b7068c76"
      },
      "source": [
        "#### 100. Compute bootstrapped 95% confidence intervals for the mean of a 1D array X (i.e., resample the elements of an array with replacement N times, compute the mean of each sample, and then compute percentiles over the means). (★★★)"
      ]
    },
    {
      "cell_type": "code",
      "execution_count": 40,
      "id": "3c234201",
      "metadata": {
        "id": "3c234201"
      },
      "outputs": [],
      "source": []
    }
  ],
  "metadata": {
    "colab": {
      "provenance": []
    },
    "language_info": {
      "name": "python"
    },
    "kernelspec": {
      "name": "python3",
      "display_name": "Python 3"
    }
  },
  "nbformat": 4,
  "nbformat_minor": 5
}